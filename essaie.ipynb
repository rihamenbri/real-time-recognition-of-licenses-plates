{
 "cells": [
  {
   "cell_type": "code",
   "execution_count": 1,
   "metadata": {},
   "outputs": [],
   "source": [
    "import torch\n",
    "import os\n",
    "from IPython.display import Image, clear_output\n",
    "import pytesseract\n",
    "import cv2\n",
    "from PIL import Image\n",
    "import numpy\n",
    "\n",
    "\n"
   ]
  },
  {
   "cell_type": "code",
   "execution_count": 2,
   "metadata": {},
   "outputs": [
    {
     "name": "stdout",
     "output_type": "stream",
     "text": [
      "F:\\stage\\yolov5\n"
     ]
    }
   ],
   "source": [
    "path = 'F:\\stage\\yolov5'\n",
    "os.chdir(path)\n",
    "\n",
    "print(os.getcwd())"
   ]
  },
  {
   "cell_type": "code",
   "execution_count": 3,
   "metadata": {},
   "outputs": [
    {
     "name": "stderr",
     "output_type": "stream",
     "text": [
      "Traceback (most recent call last):\n",
      "  File \"F:\\stage\\yolov5\\takepic.py\", line 16, in <module>\n",
      "    destroyWindow(\"frame\")\n",
      "cv2.error: OpenCV(4.6.0) D:\\a\\opencv-python\\opencv-python\\opencv\\modules\\highgui\\src\\window_w32.cpp:1261: error: (-27:Null pointer) NULL window: 'frame' in function 'cvDestroyWindow'\n",
      "\n"
     ]
    }
   ],
   "source": [
    "#prise de photo\n",
    "!python takepic.py\n"
   ]
  },
  {
   "cell_type": "code",
   "execution_count": 4,
   "metadata": {},
   "outputs": [
    {
     "name": "stderr",
     "output_type": "stream",
     "text": [
      "\u001b[34m\u001b[1mdetect: \u001b[0mweights=['best.pt'], source=plate.jpg, data=data\\coco128.yaml, imgsz=[640, 640], conf_thres=0.25, iou_thres=0.45, max_det=1000, device=, view_img=False, save_txt=False, save_conf=False, save_crop=True, nosave=False, classes=None, agnostic_nms=False, augment=False, visualize=False, update=False, project=runs\\detect, name=exp, exist_ok=False, line_thickness=3, hide_labels=False, hide_conf=False, half=False, dnn=False, vid_stride=1\n",
      "YOLOv5  v6.2-266-g72cad39 Python-3.9.13 torch-1.13.0+cpu CPU\n",
      "\n",
      "Fusing layers... \n",
      "Model summary: 157 layers, 7012822 parameters, 0 gradients, 15.8 GFLOPs\n",
      "image 1/1 F:\\stage\\yolov5\\plate.jpg: 480x640 1 license, 306.5ms\n",
      "Speed: 0.5ms pre-process, 306.5ms inference, 1.7ms NMS per image at shape (1, 3, 640, 640)\n",
      "Results saved to \u001b[1mruns\\detect\\exp\u001b[0m\n"
     ]
    }
   ],
   "source": [
    "!python detect.py --weights best.pt  --source plate.jpg  --save-crop"
   ]
  },
  {
   "cell_type": "code",
   "execution_count": 5,
   "metadata": {},
   "outputs": [
    {
     "name": "stdout",
     "output_type": "stream",
     "text": [
      "} 38995 108 16\n",
      "\n"
     ]
    }
   ],
   "source": [
    "\n",
    "path1= r'F:\\stage\\yolov5\\runs\\detect\\exp2\\crops\\license\\plate.jpg'\n",
    "pytesseract.pytesseract.tesseract_cmd = 'C:\\Program Files\\\\Tesseract-OCR\\\\tesseract.exe'\n",
    "img = cv2.imread(path1)\n",
    "data = pytesseract.image_to_string(img, lang='eng', config='--psm 6')\n",
    "print(data)\n"
   ]
  },
  {
   "cell_type": "code",
   "execution_count": 6,
   "metadata": {},
   "outputs": [],
   "source": [
    "with open('Results.txt', 'w') as f:\n",
    "    f.write(str(data))"
   ]
  }
 ],
 "metadata": {
  "kernelspec": {
   "display_name": "Python 3.9.13 ('base')",
   "language": "python",
   "name": "python3"
  },
  "language_info": {
   "codemirror_mode": {
    "name": "ipython",
    "version": 3
   },
   "file_extension": ".py",
   "mimetype": "text/x-python",
   "name": "python",
   "nbconvert_exporter": "python",
   "pygments_lexer": "ipython3",
   "version": "3.9.13"
  },
  "orig_nbformat": 4,
  "vscode": {
   "interpreter": {
    "hash": "5084bb3dc359bcc594bcffba3545476a74d63712ededeaedeef27515d7a5dba8"
   }
  }
 },
 "nbformat": 4,
 "nbformat_minor": 2
}
